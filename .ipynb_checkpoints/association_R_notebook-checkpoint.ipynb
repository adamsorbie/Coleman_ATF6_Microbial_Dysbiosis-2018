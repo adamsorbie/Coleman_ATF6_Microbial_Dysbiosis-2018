{
 "cells": [
  {
   "cell_type": "code",
   "execution_count": 6,
   "metadata": {},
   "outputs": [
    {
     "data": {
      "text/html": [
       "<ol>\n",
       "\t<li>NULL</li>\n",
       "\t<li>NULL</li>\n",
       "\t<li>NULL</li>\n",
       "\t<li>NULL</li>\n",
       "\t<li>NULL</li>\n",
       "</ol>\n"
      ],
      "text/latex": [
       "\\begin{enumerate}\n",
       "\\item NULL\n",
       "\\item NULL\n",
       "\\item NULL\n",
       "\\item NULL\n",
       "\\item NULL\n",
       "\\end{enumerate}\n"
      ],
      "text/markdown": [
       "1. NULL\n",
       "2. NULL\n",
       "3. NULL\n",
       "4. NULL\n",
       "5. NULL\n",
       "\n",
       "\n"
      ],
      "text/plain": [
       "[[1]]\n",
       "NULL\n",
       "\n",
       "[[2]]\n",
       "NULL\n",
       "\n",
       "[[3]]\n",
       "NULL\n",
       "\n",
       "[[4]]\n",
       "NULL\n",
       "\n",
       "[[5]]\n",
       "NULL\n"
      ]
     },
     "metadata": {},
     "output_type": "display_data"
    }
   ],
   "source": [
    "# Check if required packages are already installed, and install if missing\n",
    "packages <-c(\"randomForest\",\"plyr\",\"rfUtilities\",\"caret\",\"pROC\") \n",
    "\n",
    "# Function to check whether the package is installed\n",
    "InsPack <- function(pack)\n",
    "{\n",
    "  if ((pack %in% installed.packages()) == FALSE) {\n",
    "    install.packages(pack,repos =\"http://cloud.r-project.org/\")\n",
    "  } \n",
    "}\n",
    "\n",
    "# Applying the installation on the list of packages\n",
    "lapply(packages, InsPack)\n",
    "\n",
    "# Make the libraries\n",
    "lib <- lapply(packages, require, character.only = TRUE)"
   ]
  },
  {
   "cell_type": "code",
   "execution_count": 8,
   "metadata": {},
   "outputs": [],
   "source": [
    "library(\"randomForest\")\n",
    "library(\"plyr\") \n",
    "library(\"rfUtilities\") \n",
    "library(\"caret\") \n",
    "library(\"pROC\")\n",
    "\n",
    "# load data \n",
    "otu_table <- read.table(\"5wk_otu.csv\", sep=\",\", header=T, row.names=1, stringsAsFactors=FALSE, comment.char=\"\", check.names=FALSE)  \n",
    "metadata <- read.table(\"metadata_5wk.csv\", sep=\",\", header=T, row.names=1, stringsAsFactors=TRUE, comment.char=\"\", check.names=FALSE)\n",
    "metadata_test <- read.table(\"metadata_asc.csv\", sep=\",\", header=T, row.names=1, stringsAsFactors=TRUE, comment.char=\"\", check.names=FALSE)\n",
    "testing <- read.table('association_to_predict.csv', sep = \",\",header=T, row.names=1, stringsAsFactors=FALSE, comment.char=\"\", check.names=FALSE )\n",
    "\n",
    "# scale pre-preprocessed training data (normalised relative abundance with abundance cutoff of 0.5% in at least one sample) and merge phenotype column from metadata\n",
    "otu_table_scaled <- scale(otu_table, center = TRUE, scale = TRUE)\n",
    "\n",
    "otu_table_scaled_Phenotype <- data.frame(t(otu_table_scaled))  \n",
    "otu_table_scaled_Phenotype$Phenotype <- metadata[rownames(otu_table_scaled_Phenotype), \"Phenotype\"] \n",
    "\n",
    " \n",
    "# # scale pre-preprocessed test data and merge phenotype column from metadata_test\n",
    "testing_scaled <- scale(testing, center = TRUE, scale = TRUE)\n",
    "\n",
    "testing_scaled_phenotype <- data.frame(t(testing_scaled)) \n",
    "testing_scaled_phenotype$problem_id <- metadata_test[rownames(testing_scaled_phenotype), \"problem_id\"] "
   ]
  },
  {
   "cell_type": "code",
   "execution_count": null,
   "metadata": {},
   "outputs": [],
   "source": [
    "# set random seed to 42 \n",
    "set.seed(42)\n",
    "\n",
    "RF_phenotype_classify <- randomForest( x=otu_table_scaled_Phenotype[,1:(ncol(otu_table_scaled_Phenotype)-1)] , y=otu_table_scaled_Phenotype[ , ncol(otu_table_scaled_Phenotype)] , ntree=1001, importance=TRUE, proximities=TRUE )\n",
    "RF_phenotype_classify_sig <- rf.significance( x=RF_phenotype_classify ,  xdata=otu_table_scaled_Phenotype[,1:(ncol(otu_table_scaled_Phenotype)-1)] , nperm=1000 , ntree=1001 )  \n",
    "\n",
    "fit_control <- trainControl( method = \"LOOCV\", savePredictions = TRUE)    \n",
    "\n",
    "RF_phenotype_classify_loocv <- train( otu_table_scaled_Phenotype[,1:(ncol(otu_table_scaled_Phenotype)-1)] , y=otu_table_scaled_Phenotype[, ncol(otu_table_scaled_Phenotype)] , method=\"rf\", ntree=1001 , tuneGrid=data.frame( mtry=25 ) , trControl=fit_control )\n",
    "RF_phenotype_classify_loocv$results   \n",
    "\n",
    "par(mfrow=c(1,2))\n",
    "RF_phenotype_classify_importances <- as.data.frame( RF_phenotype_classify$importance )\n",
    "RF_phenotype_classify_importances$features <- rownames( RF_phenotype_classify_importances )\n",
    "RF_phenotype_classify_importances_sorted <- arrange( RF_phenotype_classify_importances  , desc(MeanDecreaseAccuracy)  )\n",
    "barplot(RF_phenotype_classify_importances_sorted$MeanDecreaseAccuracy, ylab=\"Mean Decrease in Accuracy (Variable Importance)\", main=\"RF Classification Variable Importance Distribution\")\n",
    "\n",
    "\n",
    "barplot(RF_phenotype_classify_importances_sorted[1:10,\"MeanDecreaseAccuracy\"], names.arg=RF_phenotype_classify_importances_sorted[1:10,\"features\"] , ylab=\"Mean Decrease in Accuracy (Variable Importance)\", las=2, ylim=c(0,0.02), main=\"Classification RF\") \n",
    "\n",
    "#k <- dim()[1]\n",
    "#predictions <- c()\n",
    "#for (i in 1:k) {\n",
    " # model <- RF_phenotype_classify(x[-i,], y[-i], family=\"binomial\")\n",
    "#  predictions <- c(predictions, predict(model, newx=x[i,]))\n",
    "#}\n",
    "\n",
    "pred <- predict(RF_phenotype_classify, newdata = testing_scaled_phenotype)\n",
    "\n",
    "table(pred, testing_scaled_phenotype$problem_id)\n",
    "pred"
   ]
  },
  {
   "cell_type": "code",
   "execution_count": null,
   "metadata": {},
   "outputs": [],
   "source": []
  }
 ],
 "metadata": {
  "kernelspec": {
   "display_name": "R",
   "language": "R",
   "name": "ir"
  },
  "language_info": {
   "codemirror_mode": "r",
   "file_extension": ".r",
   "mimetype": "text/x-r-source",
   "name": "R",
   "pygments_lexer": "r",
   "version": "3.4.2"
  }
 },
 "nbformat": 4,
 "nbformat_minor": 2
}

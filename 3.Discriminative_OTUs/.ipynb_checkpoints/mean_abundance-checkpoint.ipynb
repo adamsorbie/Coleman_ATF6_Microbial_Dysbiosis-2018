{
 "cells": [
  {
   "cell_type": "code",
   "execution_count": 1,
   "metadata": {
    "collapsed": true,
    "deletable": true,
    "editable": true
   },
   "outputs": [],
   "source": [
    "# calculate mean abundance in donor vs recipient \n",
    "\n",
    "import pandas as pd \n",
    "import numpy as np "
   ]
  },
  {
   "cell_type": "code",
   "execution_count": 4,
   "metadata": {
    "collapsed": false,
    "deletable": true,
    "editable": true
   },
   "outputs": [],
   "source": [
    "input_file = \"important_otus.csv\"\n",
    "fl_asc = \"fl_fl_associated.csv\"\n",
    "tg_asc = \"tg_tg_associated.csv\"\n",
    "otu = pd.read_table(input_file, sep=\",\", index_col=0)\n",
    "fl = pd.read_table(fl_asc, sep=\",\")\n",
    "tg = pd.read_table(tg_asc, sep=\",\")\n",
    "\n",
    "\n",
    "fl_list = fl[\"#SampleID\"].tolist()\n",
    "tg_list = tg[\"#SampleID\"].tolist()"
   ]
  },
  {
   "cell_type": "code",
   "execution_count": 11,
   "metadata": {
    "collapsed": true,
    "deletable": true,
    "editable": true
   },
   "outputs": [],
   "source": [
    "otu_fl_rec = otu[fl_list]\n",
    "otu_tg_rec = otu[tg_list]"
   ]
  },
  {
   "cell_type": "code",
   "execution_count": 6,
   "metadata": {
    "collapsed": false,
    "deletable": true,
    "editable": true
   },
   "outputs": [],
   "source": [
    "# calculate means across recipients and donors\n",
    "\n",
    "#otu_donor[\"Mean\"] = otu_donor.mean(axis=1)\n",
    "#otu_recipients[\"Mean\"] = otu_recipients.mean(axis=1)"
   ]
  },
  {
   "cell_type": "code",
   "execution_count": 12,
   "metadata": {
    "collapsed": false,
    "deletable": true,
    "editable": true
   },
   "outputs": [],
   "source": [
    "otu_fl_rec.to_csv(\"fl_recipients.csv\", sep=\",\", encoding=\"utf-8\")\n",
    "otu_tg_rec.to_csv(\"tg_recipients.csv\", sep=\",\", encoding=\"utf-8\")"
   ]
  },
  {
   "cell_type": "code",
   "execution_count": null,
   "metadata": {
    "collapsed": true,
    "deletable": true,
    "editable": true
   },
   "outputs": [],
   "source": []
  }
 ],
 "metadata": {
  "kernelspec": {
   "display_name": "Python 3",
   "language": "python",
   "name": "python3"
  },
  "language_info": {
   "codemirror_mode": {
    "name": "ipython",
    "version": 3
   },
   "file_extension": ".py",
   "mimetype": "text/x-python",
   "name": "python",
   "nbconvert_exporter": "python",
   "pygments_lexer": "ipython3",
   "version": "3.6.1"
  }
 },
 "nbformat": 4,
 "nbformat_minor": 2
}

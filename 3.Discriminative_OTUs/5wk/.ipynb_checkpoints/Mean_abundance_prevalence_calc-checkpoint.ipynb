{
 "cells": [
  {
   "cell_type": "code",
   "execution_count": 1,
   "metadata": {
    "collapsed": true,
    "deletable": true,
    "editable": true
   },
   "outputs": [],
   "source": [
    "import pandas as pd\n",
    "import numpy as np"
   ]
  },
  {
   "cell_type": "code",
   "execution_count": 2,
   "metadata": {
    "collapsed": true,
    "deletable": true,
    "editable": true
   },
   "outputs": [],
   "source": [
    "nt = \"nt_5wk.csv\"\n",
    "t = \"t_5wk.csv\""
   ]
  },
  {
   "cell_type": "code",
   "execution_count": 3,
   "metadata": {
    "collapsed": false,
    "deletable": true,
    "editable": true
   },
   "outputs": [],
   "source": [
    "# read input and create range of columns to select\n",
    "range_nt = [x for x in range(0,10)]\n",
    "range_t = [x for x in range(0,9)]\n",
    "NT = pd.read_csv(nt, sep=',', index_col=0, usecols= range_nt)\n",
    "T = pd.read_csv(t, sep=',', index_col=0, usecols=range_t)"
   ]
  },
  {
   "cell_type": "code",
   "execution_count": 5,
   "metadata": {
    "collapsed": false,
    "deletable": true,
    "editable": true
   },
   "outputs": [],
   "source": [
    "# filter by samples above threshold\n",
    "thresh_nt = NT[NT > 0.025]\n",
    "thresh_t = T[T > 0.025]"
   ]
  },
  {
   "cell_type": "code",
   "execution_count": 6,
   "metadata": {
    "collapsed": false,
    "deletable": true,
    "editable": true
   },
   "outputs": [],
   "source": [
    "# copy df and remove NaN \n",
    "mean_nt = thresh_nt.copy()\n",
    "mean_nt['mean_pd'] = mean_nt.mean(numeric_only=True, axis=1)\n",
    "\n",
    "mean_t = thresh_t.copy()\n",
    "mean_t['mean_pd'] = mean_t.mean(numeric_only=True, axis=1)"
   ]
  },
  {
   "cell_type": "code",
   "execution_count": 7,
   "metadata": {
    "collapsed": false,
    "deletable": true,
    "editable": true
   },
   "outputs": [],
   "source": [
    "# prevalence non tumor\n",
    "prev_nt_drop = mean_nt.drop([\"mean_pd\"], axis=1)\n",
    "prev_nt_trans = prev_nt_drop.transpose()\n",
    "prev_nt = (len(prev_nt_drop.columns) - prev_nt_trans.isnull().sum()) / len(prev_nt_drop.columns) * 100 \n",
    "\n",
    "# prevalence tumor\n",
    "prev_t_drop = mean_t.drop([\"mean_pd\"], axis=1)\n",
    "prev_t_trans = prev_t_drop.transpose()\n",
    "prev_t = (len(prev_t_drop.columns) - prev_t_trans.isnull().sum()) / len(prev_t_drop.columns) * 100 "
   ]
  },
  {
   "cell_type": "code",
   "execution_count": 8,
   "metadata": {
    "collapsed": false,
    "deletable": true,
    "editable": true
   },
   "outputs": [],
   "source": [
    "mean_t.to_csv(\"mean_t5.csv\")\n",
    "prev_t.to_csv(\"prev_t5.csv\")\n",
    "mean_nt.to_csv(\"mean_nt5.csv\")\n",
    "prev_t.to_csv(\"prev_nt5.csv\")"
   ]
  }
 ],
 "metadata": {
  "kernelspec": {
   "display_name": "Python 3",
   "language": "python",
   "name": "python3"
  },
  "language_info": {
   "codemirror_mode": {
    "name": "ipython",
    "version": 3
   },
   "file_extension": ".py",
   "mimetype": "text/x-python",
   "name": "python",
   "nbconvert_exporter": "python",
   "pygments_lexer": "ipython3",
   "version": "3.6.1"
  }
 },
 "nbformat": 4,
 "nbformat_minor": 2
}

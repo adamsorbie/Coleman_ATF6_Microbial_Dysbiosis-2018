{
 "cells": [
  {
   "cell_type": "code",
   "execution_count": 1,
   "metadata": {
    "collapsed": true,
    "deletable": true,
    "editable": true
   },
   "outputs": [],
   "source": [
    "import pandas as pd \n",
    "import numpy as np \n",
    "\n",
    "input_file = \"important_otus.csv\"\n",
    "t = \"t_12wkcc.csv\"\n",
    "nt = \"nt_12wkcc.csv\"\n",
    "otu = pd.read_table(input_file, sep=\",\", index_col=0)\n",
    "t_5 = pd.read_table(t, sep=\",\")\n",
    "nt_5 = pd.read_table(nt, sep=\",\")\n",
    "\n",
    "\n",
    "t_list = t_5[\"#SampleID\"].tolist()\n",
    "nt_list = nt_5[\"#SampleID\"].tolist()\n",
    "\n",
    "\n",
    "otu_t = otu[t_list]\n",
    "otu_nt = otu[nt_list]\n",
    "\n",
    "otu_t.to_csv(\"t_12wk_cc.csv\", sep=\",\", encoding=\"utf-8\")\n",
    "otu_nt.to_csv(\"nt_12wk_cc.csv\", sep=\",\", encoding=\"utf-8\")"
   ]
  },
  {
   "cell_type": "code",
   "execution_count": 4,
   "metadata": {
    "collapsed": false,
    "deletable": true,
    "editable": true
   },
   "outputs": [],
   "source": []
  },
  {
   "cell_type": "code",
   "execution_count": 7,
   "metadata": {
    "collapsed": true,
    "deletable": true,
    "editable": true
   },
   "outputs": [],
   "source": []
  },
  {
   "cell_type": "code",
   "execution_count": 8,
   "metadata": {
    "collapsed": false,
    "deletable": true,
    "editable": true
   },
   "outputs": [],
   "source": []
  },
  {
   "cell_type": "code",
   "execution_count": 9,
   "metadata": {
    "collapsed": false,
    "deletable": true,
    "editable": true
   },
   "outputs": [],
   "source": []
  },
  {
   "cell_type": "code",
   "execution_count": null,
   "metadata": {
    "collapsed": true,
    "deletable": true,
    "editable": true
   },
   "outputs": [],
   "source": []
  }
 ],
 "metadata": {
  "kernelspec": {
   "display_name": "Python 3",
   "language": "python",
   "name": "python3"
  },
  "language_info": {
   "codemirror_mode": {
    "name": "ipython",
    "version": 3
   },
   "file_extension": ".py",
   "mimetype": "text/x-python",
   "name": "python",
   "nbconvert_exporter": "python",
   "pygments_lexer": "ipython3",
   "version": "3.6.1"
  }
 },
 "nbformat": 4,
 "nbformat_minor": 2
}

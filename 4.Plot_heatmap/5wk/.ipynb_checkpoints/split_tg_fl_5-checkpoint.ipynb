{
 "cells": [
  {
   "cell_type": "code",
   "execution_count": 2,
   "metadata": {
    "collapsed": true,
    "deletable": true,
    "editable": true
   },
   "outputs": [],
   "source": [
    "import pandas as pd \n",
    "import numpy as np "
   ]
  },
  {
   "cell_type": "code",
   "execution_count": 4,
   "metadata": {
    "collapsed": false,
    "deletable": true,
    "editable": true
   },
   "outputs": [],
   "source": [
    "input_file = \"important_otus.csv\"\n",
    "t = \"t_5wkfc.csv\"\n",
    "nt = \"nt_5wkfc.csv\"\n",
    "otu = pd.read_table(input_file, sep=\",\", index_col=0)\n",
    "t_5 = pd.read_table(t, sep=\",\")\n",
    "nt_5 = pd.read_table(nt, sep=\",\")\n",
    "\n",
    "\n",
    "t_list = t_5[\"#SampleID\"].tolist()\n",
    "nt_list = nt_5[\"#SampleID\"].tolist()"
   ]
  },
  {
   "cell_type": "code",
   "execution_count": 5,
   "metadata": {
    "collapsed": true,
    "deletable": true,
    "editable": true
   },
   "outputs": [],
   "source": [
    "otu_t = otu[t_list]\n",
    "otu_nt = otu[nt_list]"
   ]
  },
  {
   "cell_type": "code",
   "execution_count": 6,
   "metadata": {
    "collapsed": false,
    "deletable": true,
    "editable": true
   },
   "outputs": [],
   "source": [
    "# calculate means across recipients and donors\n",
    "\n",
    "#otu_donor[\"Mean\"] = otu_donor.mean(axis=1)\n",
    "#otu_recipients[\"Mean\"] = otu_recipients.mean(axis=1)"
   ]
  },
  {
   "cell_type": "code",
   "execution_count": 7,
   "metadata": {
    "collapsed": false,
    "deletable": true,
    "editable": true
   },
   "outputs": [],
   "source": [
    "otu_t.to_csv(\"t_5wk.csv\", sep=\",\", encoding=\"utf-8\")\n",
    "otu_nt.to_csv(\"nt_5wk.csv\", sep=\",\", encoding=\"utf-8\")"
   ]
  },
  {
   "cell_type": "code",
   "execution_count": null,
   "metadata": {
    "collapsed": true,
    "deletable": true,
    "editable": true
   },
   "outputs": [],
   "source": []
  }
 ],
 "metadata": {
  "kernelspec": {
   "display_name": "Python 3",
   "language": "python",
   "name": "python3"
  },
  "language_info": {
   "codemirror_mode": {
    "name": "ipython",
    "version": 3
   },
   "file_extension": ".py",
   "mimetype": "text/x-python",
   "name": "python",
   "nbconvert_exporter": "python",
   "pygments_lexer": "ipython3",
   "version": "3.6.1"
  }
 },
 "nbformat": 4,
 "nbformat_minor": 2
}

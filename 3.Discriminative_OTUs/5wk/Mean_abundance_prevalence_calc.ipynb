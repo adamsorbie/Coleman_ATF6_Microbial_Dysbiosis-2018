{
 "cells": [
  {
   "cell_type": "code",
   "execution_count": 1,
   "metadata": {
    "collapsed": true
   },
   "outputs": [],
   "source": [
    "import pandas as pd\n",
    "import numpy as np"
   ]
  },
  {
   "cell_type": "code",
   "execution_count": 2,
   "metadata": {
    "collapsed": true
   },
   "outputs": [],
   "source": [
    "nt = \"nt_5wk.csv\"\n",
    "t = \"t_5wk.csv\""
   ]
  },
  {
   "cell_type": "code",
   "execution_count": 28,
   "metadata": {
    "collapsed": false
   },
   "outputs": [],
   "source": [
    "range_nt = [x for x in range(0,10)]\n",
    "range_t = [x for x in range(0,9)]\n",
    "NT = pd.read_csv(nt, sep=',', index_col=0, usecols= range_nt)\n",
    "T = pd.read_csv(t, sep=',', index_col=0, usecols=range_t)"
   ]
  },
  {
   "cell_type": "code",
   "execution_count": 29,
   "metadata": {
    "collapsed": false
   },
   "outputs": [],
   "source": [
    "thresh_nt = NT[NT > 0.025]\n",
    "thresh_t = T[T > 0.025]"
   ]
  },
  {
   "cell_type": "code",
   "execution_count": 32,
   "metadata": {
    "collapsed": false
   },
   "outputs": [],
   "source": [
    "mean_nt = thresh_nt.copy()\n",
    "mean_nt['mean_pd'] = mean_nt.mean(numeric_only=True, axis=1)\n",
    "\n",
    "mean_t = thresh_t.copy()\n",
    "mean_t['mean_pd'] = mean_t.mean(numeric_only=True, axis=1)\n",
    "\n",
    "#thresh_nt[\"mean_pd\"] = thresh_nt.mean\n",
    "#thresh_t[\"mean_pd\"] = thresh_t.mean"
   ]
  },
  {
   "cell_type": "code",
   "execution_count": 61,
   "metadata": {
    "collapsed": false
   },
   "outputs": [],
   "source": [
    "# prevalence non tumor\n",
    "prev_nt_drop = mean_nt.drop([\"mean_pd\"], axis=1)\n",
    "prev_nt_trans = prev_nt_drop.transpose()\n",
    "prev_nt = (len(prev_nt_drop.columns) - prev_nt_trans.isnull().sum()) / len(prev_nt_drop.columns) * 100 \n",
    "\n",
    "# prevalence tumor\n",
    "prev_t_drop = mean_t.drop([\"mean_pd\"], axis=1)\n",
    "prev_t_trans = prev_t_drop.transpose()\n",
    "prev_t = (len(prev_t_drop.columns) - prev_t_trans.isnull().sum()) / len(prev_t_drop.columns) * 100 "
   ]
  },
  {
   "cell_type": "code",
   "execution_count": 62,
   "metadata": {
    "collapsed": false
   },
   "outputs": [
    {
     "data": {
      "text/plain": [
       "#OTUId\n",
       "OTU_24     100.0\n",
       "OTU_30      87.5\n",
       "OTU_38     100.0\n",
       "OTU_115     87.5\n",
       "OTU_187     62.5\n",
       "OTU_66      62.5\n",
       "OTU_11      25.0\n",
       "OTU_77      62.5\n",
       "OTU_208      0.0\n",
       "OTU_70      12.5\n",
       "OTU_100     25.0\n",
       "OTU_193     50.0\n",
       "OTU_65       0.0\n",
       "OTU_62      12.5\n",
       "OTU_58      12.5\n",
       "OTU_167     62.5\n",
       "OTU_159      0.0\n",
       "OTU_207      0.0\n",
       "OTU_53      25.0\n",
       "OTU_112     25.0\n",
       "dtype: float64"
      ]
     },
     "execution_count": 62,
     "metadata": {},
     "output_type": "execute_result"
    }
   ],
   "source": [
    "prev_t"
   ]
  },
  {
   "cell_type": "code",
   "execution_count": 49,
   "metadata": {
    "collapsed": false
   },
   "outputs": [
    {
     "data": {
      "text/plain": [
       "#OTUId\n",
       "OTU_24      0\n",
       "OTU_30      0\n",
       "OTU_38      3\n",
       "OTU_115     3\n",
       "OTU_187     4\n",
       "OTU_66     10\n",
       "OTU_11      5\n",
       "OTU_77      3\n",
       "OTU_208     4\n",
       "OTU_70      5\n",
       "OTU_100     5\n",
       "OTU_193     4\n",
       "OTU_65      8\n",
       "OTU_62     10\n",
       "OTU_58      4\n",
       "OTU_167     5\n",
       "OTU_159     5\n",
       "OTU_207     5\n",
       "OTU_53      4\n",
       "OTU_112     3\n",
       "dtype: int64"
      ]
     },
     "execution_count": 49,
     "metadata": {},
     "output_type": "execute_result"
    }
   ],
   "source": []
  },
  {
   "cell_type": "code",
   "execution_count": null,
   "metadata": {
    "collapsed": true
   },
   "outputs": [],
   "source": []
  }
 ],
 "metadata": {
  "kernelspec": {
   "display_name": "Python 3",
   "language": "python",
   "name": "python3"
  },
  "language_info": {
   "codemirror_mode": {
    "name": "ipython",
    "version": 3
   },
   "file_extension": ".py",
   "mimetype": "text/x-python",
   "name": "python",
   "nbconvert_exporter": "python",
   "pygments_lexer": "ipython3",
   "version": "3.6.1"
  }
 },
 "nbformat": 4,
 "nbformat_minor": 2
}

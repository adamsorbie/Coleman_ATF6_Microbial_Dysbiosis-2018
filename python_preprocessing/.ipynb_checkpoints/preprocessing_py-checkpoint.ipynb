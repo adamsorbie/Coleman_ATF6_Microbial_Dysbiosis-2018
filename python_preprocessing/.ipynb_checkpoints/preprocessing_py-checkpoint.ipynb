{
 "cells": [
  {
   "cell_type": "code",
   "execution_count": 1,
   "metadata": {
    "collapsed": true,
    "deletable": true,
    "editable": true
   },
   "outputs": [],
   "source": [
    "import pandas as pd "
   ]
  },
  {
   "cell_type": "code",
   "execution_count": 2,
   "metadata": {
    "collapsed": false,
    "deletable": true,
    "editable": true
   },
   "outputs": [],
   "source": [
    "otu_table = 'merged_otu.tab'\n",
    "map_file = 'merged_map.tab'\n",
    "sample_ids = 'sample_ids.txt'\n",
    "timepoint_1 = 'wk1.txt'\n",
    "status = 'Phenotype'\n",
    "wk_5 = \"5wk.txt\"\n",
    "\n",
    "# set input variables\n",
    "\n",
    "otu = pd.read_table(otu_table , sep='\\t', index_col=0)\n",
    "metadata = pd.read_table(map_file ,sep='\\t', index_col=0) \n",
    "ids = pd.read_table(sample_ids, sep='\\t')\n",
    "faecal_1 = pd.read_table(timepoint_1, sep='\\t')\n",
    "w5 = pd.read_table(wk_5, sep='\\t')\n",
    "# load data and metadata "
   ]
  },
  {
   "cell_type": "code",
   "execution_count": 3,
   "metadata": {
    "collapsed": true,
    "deletable": true,
    "editable": true
   },
   "outputs": [],
   "source": [
    "sum_row = otu.sum()\n",
    "min_sum = min(otu.sum())\n",
    "normalise = otu * 100 / sum_row \n",
    "\n",
    "# normalise data: relative abundance - multiply each row by 100 and divide by the sum of the row"
   ]
  },
  {
   "cell_type": "code",
   "execution_count": 4,
   "metadata": {
    "collapsed": false,
    "deletable": true,
    "editable": true
   },
   "outputs": [
    {
     "data": {
      "text/plain": [
       "(226, 216)"
      ]
     },
     "execution_count": 4,
     "metadata": {},
     "output_type": "execute_result"
    }
   ],
   "source": [
    "non_zero_columns = normalise.astype(bool).sum(axis=1) \n",
    "\n",
    "# drop rows which are zero in more than 25% of columns\n",
    "\n",
    "otu_filtered = normalise[(normalise > 0).sum(axis=1) >= 54]\n",
    "\n",
    "otu_filtered.shape"
   ]
  },
  {
   "cell_type": "code",
   "execution_count": 5,
   "metadata": {
    "collapsed": false,
    "deletable": true,
    "editable": true
   },
   "outputs": [],
   "source": [
    "# drop associated samples \n",
    "\n",
    "id_list = ids['#SampleID'].tolist()\n",
    "train_wk5 = w5['#SampleID'].tolist()\n",
    "association = faecal_1['#SampleID'].tolist()\n",
    "\n",
    "# create list of wk1 samples \n",
    "\n",
    "training = [x for x in id_list if x in train_wk5]\n",
    "# filter id_list so dataset only includes wk5 samples\n",
    "\n",
    "\n",
    "test_train = otu_filtered[training]\n",
    "# create filtered df to train on \n",
    "test_train.to_csv(\"5wk_otu.csv\", sep=',',encoding='utf-8')\n",
    "\n",
    "metadata_trans = metadata.transpose()\n",
    "metadata_asc = metadata_trans[training]\n",
    "metadata_asc = metadata_asc.transpose()\n",
    "metadata_asc.to_csv(\"metadata_asc.csv\", sep=',',encoding='utf-8')\n",
    "\n",
    "wk1 = [x for x in id_list if x in association]\n",
    "wk1_predict = otu_filtered[wk1]\n",
    "wk1_predict.to_csv(\"association_to_predict.csv\", sep=',', encoding='utf-8')"
   ]
  },
  {
   "cell_type": "code",
   "execution_count": null,
   "metadata": {
    "collapsed": true,
    "deletable": true,
    "editable": true
   },
   "outputs": [],
   "source": []
  }
 ],
 "metadata": {
  "kernelspec": {
   "display_name": "Python 3",
   "language": "python",
   "name": "python3"
  },
  "language_info": {
   "codemirror_mode": {
    "name": "ipython",
    "version": 3
   },
   "file_extension": ".py",
   "mimetype": "text/x-python",
   "name": "python",
   "nbconvert_exporter": "python",
   "pygments_lexer": "ipython3",
   "version": "3.6.1"
  }
 },
 "nbformat": 4,
 "nbformat_minor": 2
}
